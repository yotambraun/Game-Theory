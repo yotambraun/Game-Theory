{
  "nbformat": 4,
  "nbformat_minor": 0,
  "metadata": {
    "colab": {
      "name": "Game-Theory.ipynb",
      "provenance": [],
      "collapsed_sections": []
    },
    "kernelspec": {
      "name": "python3",
      "display_name": "Python 3"
    }
  },
  "cells": [
    {
      "cell_type": "code",
      "metadata": {
        "id": "p-g5vyEXgLSG",
        "colab": {
          "base_uri": "https://localhost:8080/"
        },
        "outputId": "569abd55-6771-4c57-d629-2ce3b5952811"
      },
      "source": [
        "pip install nashpy"
      ],
      "execution_count": null,
      "outputs": [
        {
          "output_type": "stream",
          "text": [
            "Collecting nashpy\n",
            "  Downloading https://files.pythonhosted.org/packages/ad/a2/5d36744511640db1869029d2ab324b55f6eaaa2a51f75a87408a7e8000f4/nashpy-0.0.19.tar.gz\n",
            "Requirement already satisfied: numpy>=1.12.1 in /usr/local/lib/python3.6/dist-packages (from nashpy) (1.19.4)\n",
            "Requirement already satisfied: scipy>=0.19.0 in /usr/local/lib/python3.6/dist-packages (from nashpy) (1.4.1)\n",
            "Building wheels for collected packages: nashpy\n",
            "  Building wheel for nashpy (setup.py) ... \u001b[?25l\u001b[?25hdone\n",
            "  Created wheel for nashpy: filename=nashpy-0.0.19-cp36-none-any.whl size=10814 sha256=3c216127a2ae1ce9ecb847bb642de51e96844835c1da7fff8619ee30981815ac\n",
            "  Stored in directory: /root/.cache/pip/wheels/18/e9/56/2d04d01a6969d167f86d3afcb3d128c0b43d0d73ea471c835b\n",
            "Successfully built nashpy\n",
            "Installing collected packages: nashpy\n",
            "Successfully installed nashpy-0.0.19\n"
          ],
          "name": "stdout"
        }
      ]
    },
    {
      "cell_type": "code",
      "metadata": {
        "id": "E0xwDAHTMmW3"
      },
      "source": [
        "import nashpy as nash\r\n",
        "import numpy as np"
      ],
      "execution_count": null,
      "outputs": []
    },
    {
      "cell_type": "code",
      "metadata": {
        "id": "CzYmQjoOg6CY",
        "colab": {
          "base_uri": "https://localhost:8080/"
        },
        "outputId": "07d9bf65-30af-41b7-b54e-6b27de5e8a39"
      },
      "source": [
        "A = np.array([[2,0],[4,2]]) # A is the row player\r\n",
        "B = np.array([[4,2],[2,0]]) # B is the column player\r\n",
        "game1 = nash.Game(A,B)\r\n",
        "game1"
      ],
      "execution_count": null,
      "outputs": [
        {
          "output_type": "execute_result",
          "data": {
            "text/plain": [
              "Bi matrix game with payoff matrices:\n",
              "\n",
              "Row player:\n",
              "[[2 0]\n",
              " [4 2]]\n",
              "\n",
              "Column player:\n",
              "[[4 2]\n",
              " [2 0]]"
            ]
          },
          "metadata": {
            "tags": []
          },
          "execution_count": 12
        }
      ]
    },
    {
      "cell_type": "code",
      "metadata": {
        "colab": {
          "base_uri": "https://localhost:8080/"
        },
        "id": "WALYIR_8NlSj",
        "outputId": "97c47f13-ee0f-48c8-cde9-71bc20586f0f"
      },
      "source": [
        "equilibria = game1.support_enumeration()\r\n",
        "for eq in equilibria:\r\n",
        "    print(eq)"
      ],
      "execution_count": null,
      "outputs": [
        {
          "output_type": "stream",
          "text": [
            "(array([0., 1.]), array([1., 0.]))\n"
          ],
          "name": "stdout"
        }
      ]
    }
  ]
}