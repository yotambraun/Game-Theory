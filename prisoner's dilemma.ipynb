{
 "cells": [
  {
   "cell_type": "code",
   "execution_count": 62,
   "metadata": {},
   "outputs": [
    {
     "name": "stdout",
     "output_type": "stream",
     "text": [
      "Player 1 payoffs:  22461\n",
      "Player 2 payoffs:  22411\n"
     ]
    }
   ],
   "source": [
    "import numpy as np\n",
    "\n",
    "# define the payoff matrix for the prisoner's dilemma\n",
    "payoff_matrix = np.array([[(3,3), (0,5)], [(5,0), (1,1)]])\n",
    "\n",
    "def simulate_game(num_rounds, strategy1, strategy2):\n",
    "  # keep track of the payoffs for each player\n",
    "    payoffs1 = 0\n",
    "    payoffs2 = 0\n",
    "  \n",
    "  # simulate the game for the specified number of rounds\n",
    "  # by generating random strategies for each player using matrix operations\n",
    "    strategies1 = np.random.choice(strategy1, size=num_rounds)\n",
    "    strategies2 = np.random.choice(strategy2, size=num_rounds)\n",
    "  \n",
    "  # compute the payoffs for each player using matrix operations\n",
    "    payoffs1 = np.sum(payoff_matrix[strategies1, strategies2, 0])\n",
    "    payoffs2 = np.sum(payoff_matrix[strategies1, strategies2, 1])\n",
    "    print(\"Player 1 payoffs: \", payoffs1)\n",
    "    print(\"Player 2 payoffs: \", payoffs2)\n",
    "\n",
    "# define the strategies for each player\n",
    "strategy1 = [0, 1] # player 1 can either cooperate (0) or defect (1)\n",
    "strategy2 = [0, 1] # player 2 can either cooperate (0) or defect (1)\n",
    "\n",
    "# simulate the game for 1000 rounds\n",
    "simulate_game(10000, strategy1, strategy2)"
   ]
  },
  {
   "cell_type": "markdown",
   "metadata": {},
   "source": [
    "# prisoner's dilemma with oop"
   ]
  },
  {
   "cell_type": "code",
   "execution_count": 64,
   "metadata": {},
   "outputs": [
    {
     "data": {
      "image/png": "[encoded data removed]",
      "text/plain": [
       "<Figure size 432x288 with 1 Axes>"
      ]
     },
     "metadata": {
      "needs_background": "light"
     },
     "output_type": "display_data"
    }
   ],
   "source": [
    "import numpy as np\n",
    "import matplotlib.pyplot as plt\n",
    "\n",
    "class Game:\n",
    "    def __init__(self, payoff_matrix, strategies1, strategies2):\n",
    "    # store the payoff matrix and strategies for each player\n",
    "        self.payoff_matrix = payoff_matrix\n",
    "        self.strategies1 = strategies1\n",
    "        self.strategies2 = strategies2\n",
    "  \n",
    "    def simulate(self, num_rounds):\n",
    "        # keep track of the payoffs for each player\n",
    "        payoffs1 = 0\n",
    "        payoffs2 = 0\n",
    "        \n",
    "        # simulate the game for the specified number of rounds\n",
    "        # by generating random strategies for each player using matrix operations\n",
    "        strategies1 = np.random.choice(self.strategies1, size=num_rounds)\n",
    "        strategies2 = np.random.choice(self.strategies2, size=num_rounds)\n",
    "    \n",
    "        # compute the payoffs for each player using matrix operations\n",
    "        payoffs1 = np.sum(self.payoff_matrix[strategies1, strategies2, 0])\n",
    "        payoffs2 = np.sum(self.payoff_matrix[strategies1, strategies2, 1])\n",
    "        \n",
    "        return payoffs1, payoffs2\n",
    "  \n",
    "    def plot_payoffs(self, payoffs1, payoffs2):\n",
    "        # create a bar chart showing the payoffs for each player\n",
    "        plt.bar([1, 2], [payoffs1, payoffs2])\n",
    "        plt.xticks([1, 2], [\"Player 1\", \"Player 2\"])\n",
    "        plt.ylabel(\"Payoffs\")\n",
    "        plt.show()\n",
    "\n",
    "# define the payoff matrix for the prisoner's dilemma\n",
    "payoff_matrix = np.array([[(3,3), (0,5)], [(5,0), (1,1)]])\n",
    "\n",
    "# define the strategies for each player\n",
    "strategies1 = [0, 1] # player 1 can either cooperate (0) or defect (1)\n",
    "strategies2 = [0, 1] # player 2 can either cooperate (0) or defect (1)\n",
    "\n",
    "# create a Game instance\n",
    "game = Game(payoff_matrix, strategies1, strategies2)\n",
    "\n",
    "# simulate the game for 10000 rounds\n",
    "payoffs1, payoffs2 = game.simulate(10000)\n",
    "\n",
    "# plot the payoffs for each player\n",
    "game.plot_payoffs(payoffs1, payoffs2)\n"
   ]
  },
  {
   "cell_type": "code",
   "execution_count": 66,
   "metadata": {},
   "outputs": [
    {
     "data": {
      "image/png": "[encoded data removed]",
      "text/plain": [
       "<Figure size 432x288 with 1 Axes>"
      ]
     },
     "metadata": {
      "needs_background": "light"
     },
     "output_type": "display_data"
    }
   ],
   "source": [
    "import numpy as np\n",
    "import matplotlib.pyplot as plt\n",
    "\n",
    "class Game:\n",
    "    def __init__(self, payoff_matrix, strategies1, strategies2):\n",
    "        # store the payoff matrix and strategies for each player\n",
    "        self.payoff_matrix = payoff_matrix\n",
    "        self.strategies1 = strategies1\n",
    "        self.strategies2 = strategies2\n",
    "    \n",
    "    def simulate(self, num_rounds):\n",
    "        # keep track of the payoffs for each player\n",
    "        payoffs1 = 0\n",
    "        payoffs2 = 0\n",
    "        \n",
    "        # simulate the game for the specified number of rounds\n",
    "        # by generating random strategies for each player using matrix operations\n",
    "        strategies1 = np.random.choice(self.strategies1, size=num_rounds)\n",
    "        strategies2 = np.random.choice(self.strategies2, size=num_rounds)\n",
    "        # compute the payoffs for each player using matrix operations\n",
    "        payoffs1 = np.sum(self.payoff_matrix[strategies1, strategies2, 0])\n",
    "        payoffs2 = np.sum(self.payoff_matrix[strategies1, strategies2, 1])\n",
    "        \n",
    "        return payoffs1, payoffs2\n",
    "    \n",
    "    def plot_payoffs(self, payoffs1, payoffs2):\n",
    "        # create a bar chart showing the payoffs for each player\n",
    "        plt.bar([1, 2], [payoffs1, payoffs2])\n",
    "        plt.xticks([1, 2], [\"Player 1\", \"Player 2\"])\n",
    "        plt.ylabel(\"Payoffs\")\n",
    "        plt.show()\n",
    "      \n",
    "    def set_payoff_matrix(self, payoff_matrix):\n",
    "      # set the payoff matrix for the game\n",
    "        self.payoff_matrix = payoff_matrix\n",
    "\n",
    "# define the payoff matrix for the prisoner's dilemma\n",
    "payoff_matrix = np.array([[(3,3), (0,5)], [(5,0), (1,1)]])\n",
    "\n",
    "# define the strategies for each player\n",
    "strategies1 = [0, 1] # player 1 can either cooperate (0) or defect (1)\n",
    "strategies2 = [0, 1] # player 2 can either cooperate (0) or defect (1)\n",
    "\n",
    "# create a Game instance\n",
    "game = Game(payoff_matrix, strategies1, strategies2)\n",
    "\n",
    "# simulate the game for 1000 rounds\n",
    "payoffs1, payoffs2 = game.simulate(1000)\n",
    "\n",
    "\n",
    "\n",
    "# plot the payoffs for each player\n",
    "game.plot_payoffs(payoffs1, payoffs2)"
   ]
  },
  {
   "cell_type": "code",
   "execution_count": 67,
   "metadata": {},
   "outputs": [
    {
     "data": {
      "image/png": "[encoded data removed]",
      "text/plain": [
       "<Figure size 432x288 with 1 Axes>"
      ]
     },
     "metadata": {
      "needs_background": "light"
     },
     "output_type": "display_data"
    }
   ],
   "source": [
    "# define a new payoff matrix for the game\n",
    "new_payoff_matrix = np.array([[(4,4), (0,6)], [(6,0), (2,2)]])\n",
    "\n",
    "# set the new payoff matrix for the game\n",
    "game.set_payoff_matrix(new_payoff_matrix)\n",
    "\n",
    "# simulate the game for 1000 rounds\n",
    "payoffs1, payoffs2 = game.simulate(1000)\n",
    "\n",
    "# plot the payoffs for each player\n",
    "game.plot_payoffs(payoffs1, payoffs2)\n"
   ]
  }
 ],
 "metadata": {
  "kernelspec": {
   "display_name": "Python 3",
   "language": "python",
   "name": "python3"
  },
  "language_info": {
   "codemirror_mode": {
    "name": "ipython",
    "version": 3
   },
   "file_extension": ".py",
   "mimetype": "text/x-python",
   "name": "python",
   "nbconvert_exporter": "python",
   "pygments_lexer": "ipython3",
   "version": "3.8.5"
  }
 },
 "nbformat": 4,
 "nbformat_minor": 4
}
